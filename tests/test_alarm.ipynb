{
 "cells": [
  {
   "cell_type": "code",
   "execution_count": 1,
   "id": "3c9f6687-d14e-487a-abc9-1479db7b0235",
   "metadata": {},
   "outputs": [],
   "source": [
    "from pythreader import PyThread\n",
    "import time"
   ]
  },
  {
   "cell_type": "code",
   "execution_count": 2,
   "id": "077b3452-ee54-4eeb-8176-9b2df075797c",
   "metadata": {},
   "outputs": [
    {
     "name": "stdout",
     "output_type": "stream",
     "text": [
      "Sun Jan  8 10:19:17 2023\n",
      "Sun Jan  8 10:19:18 2023\n",
      "Sun Jan  8 10:19:19 2023\n",
      "Sun Jan  8 10:19:20 2023\n",
      "Sun Jan  8 10:19:21 2023\n",
      "Sun Jan  8 10:19:22 2023\n",
      "Sun Jan  8 10:19:23 2023\n",
      "Sun Jan  8 10:19:24 2023\n",
      "Sun Jan  8 10:19:25 2023\n",
      "Sun Jan  8 10:19:26 2023\n",
      "Sun Jan  8 10:19:27 2023\n",
      "Sun Jan  8 10:19:28 2023\n"
     ]
    },
    {
     "ename": "KeyboardInterrupt",
     "evalue": "",
     "output_type": "error",
     "traceback": [
      "\u001b[0;31m---------------------------------------------------------------------------\u001b[0m",
      "\u001b[0;31mKeyboardInterrupt\u001b[0m                         Traceback (most recent call last)",
      "\u001b[0;32m/var/folders/rx/z35skykn7m52w2g61xz15fj40000gn/T/ipykernel_2721/3181290693.py\u001b[0m in \u001b[0;36m<module>\u001b[0;34m\u001b[0m\n\u001b[1;32m      9\u001b[0m \u001b[0mt\u001b[0m \u001b[0;34m=\u001b[0m \u001b[0mT\u001b[0m\u001b[0;34m(\u001b[0m\u001b[0;34m)\u001b[0m\u001b[0;34m\u001b[0m\u001b[0;34m\u001b[0m\u001b[0m\n\u001b[1;32m     10\u001b[0m \u001b[0mt\u001b[0m\u001b[0;34m.\u001b[0m\u001b[0mstart\u001b[0m\u001b[0;34m(\u001b[0m\u001b[0;34m)\u001b[0m\u001b[0;34m\u001b[0m\u001b[0;34m\u001b[0m\u001b[0m\n\u001b[0;32m---> 11\u001b[0;31m \u001b[0mt\u001b[0m\u001b[0;34m.\u001b[0m\u001b[0mjoin\u001b[0m\u001b[0;34m(\u001b[0m\u001b[0;34m)\u001b[0m\u001b[0;34m\u001b[0m\u001b[0;34m\u001b[0m\u001b[0m\n\u001b[0m\u001b[1;32m     12\u001b[0m \u001b[0;34m\u001b[0m\u001b[0m\n",
      "\u001b[0;32m~/miniconda3/lib/python3.9/threading.py\u001b[0m in \u001b[0;36mjoin\u001b[0;34m(self, timeout)\u001b[0m\n\u001b[1;32m   1051\u001b[0m \u001b[0;34m\u001b[0m\u001b[0m\n\u001b[1;32m   1052\u001b[0m         \u001b[0;32mif\u001b[0m \u001b[0mtimeout\u001b[0m \u001b[0;32mis\u001b[0m \u001b[0;32mNone\u001b[0m\u001b[0;34m:\u001b[0m\u001b[0;34m\u001b[0m\u001b[0;34m\u001b[0m\u001b[0m\n\u001b[0;32m-> 1053\u001b[0;31m             \u001b[0mself\u001b[0m\u001b[0;34m.\u001b[0m\u001b[0m_wait_for_tstate_lock\u001b[0m\u001b[0;34m(\u001b[0m\u001b[0;34m)\u001b[0m\u001b[0;34m\u001b[0m\u001b[0;34m\u001b[0m\u001b[0m\n\u001b[0m\u001b[1;32m   1054\u001b[0m         \u001b[0;32melse\u001b[0m\u001b[0;34m:\u001b[0m\u001b[0;34m\u001b[0m\u001b[0;34m\u001b[0m\u001b[0m\n\u001b[1;32m   1055\u001b[0m             \u001b[0;31m# the behavior of a negative timeout isn't documented, but\u001b[0m\u001b[0;34m\u001b[0m\u001b[0;34m\u001b[0m\u001b[0m\n",
      "\u001b[0;32m~/miniconda3/lib/python3.9/threading.py\u001b[0m in \u001b[0;36m_wait_for_tstate_lock\u001b[0;34m(self, block, timeout)\u001b[0m\n\u001b[1;32m   1071\u001b[0m \u001b[0;34m\u001b[0m\u001b[0m\n\u001b[1;32m   1072\u001b[0m         \u001b[0;32mtry\u001b[0m\u001b[0;34m:\u001b[0m\u001b[0;34m\u001b[0m\u001b[0;34m\u001b[0m\u001b[0m\n\u001b[0;32m-> 1073\u001b[0;31m             \u001b[0;32mif\u001b[0m \u001b[0mlock\u001b[0m\u001b[0;34m.\u001b[0m\u001b[0macquire\u001b[0m\u001b[0;34m(\u001b[0m\u001b[0mblock\u001b[0m\u001b[0;34m,\u001b[0m \u001b[0mtimeout\u001b[0m\u001b[0;34m)\u001b[0m\u001b[0;34m:\u001b[0m\u001b[0;34m\u001b[0m\u001b[0;34m\u001b[0m\u001b[0m\n\u001b[0m\u001b[1;32m   1074\u001b[0m                 \u001b[0mlock\u001b[0m\u001b[0;34m.\u001b[0m\u001b[0mrelease\u001b[0m\u001b[0;34m(\u001b[0m\u001b[0;34m)\u001b[0m\u001b[0;34m\u001b[0m\u001b[0;34m\u001b[0m\u001b[0m\n\u001b[1;32m   1075\u001b[0m                 \u001b[0mself\u001b[0m\u001b[0;34m.\u001b[0m\u001b[0m_stop\u001b[0m\u001b[0;34m(\u001b[0m\u001b[0;34m)\u001b[0m\u001b[0;34m\u001b[0m\u001b[0;34m\u001b[0m\u001b[0m\n",
      "\u001b[0;31mKeyboardInterrupt\u001b[0m: "
     ]
    },
    {
     "name": "stdout",
     "output_type": "stream",
     "text": [
      "Sun Jan  8 10:19:29 2023\n",
      "Sun Jan  8 10:19:30 2023\n",
      "Sun Jan  8 10:19:31 2023\n",
      "Sun Jan  8 10:19:32 2023\n",
      "Sun Jan  8 10:19:33 2023\n",
      "Sun Jan  8 10:19:34 2023\n",
      "Sun Jan  8 10:19:35 2023\n",
      "Sun Jan  8 10:19:36 2023\n",
      "Sun Jan  8 10:19:37 2023\n",
      "Sun Jan  8 10:19:38 2023\n",
      "Sun Jan  8 10:19:39 2023\n",
      "Sun Jan  8 10:19:40 2023\n",
      "Sun Jan  8 10:19:41 2023\n",
      "Sun Jan  8 10:19:42 2023\n",
      "Sun Jan  8 10:19:43 2023\n",
      "Sun Jan  8 10:19:44 2023\n",
      "Sun Jan  8 10:19:45 2023\n",
      "Sun Jan  8 10:19:46 2023\n",
      "Sun Jan  8 10:19:47 2023\n",
      "Sun Jan  8 10:19:48 2023\n",
      "Sun Jan  8 10:19:49 2023\n",
      "Sun Jan  8 10:19:50 2023\n"
     ]
    }
   ],
   "source": [
    "class T(PyThread):\n",
    "\n",
    "    def run(self):\n",
    "        self.alarm(self.wakeup, interval = 1)\n",
    "        while True:\n",
    "            self.sleep()\n",
    "            print(time.ctime())\n",
    "            \n",
    "t = T()\n",
    "t.start()\n",
    "t.join()\n",
    "            "
   ]
  },
  {
   "cell_type": "code",
   "execution_count": null,
   "id": "7d4c5348-880b-4b8d-b820-5fc25bf00a22",
   "metadata": {},
   "outputs": [],
   "source": []
  }
 ],
 "metadata": {
  "kernelspec": {
   "display_name": "Python 3 (ipykernel)",
   "language": "python",
   "name": "python3"
  },
  "language_info": {
   "codemirror_mode": {
    "name": "ipython",
    "version": 3
   },
   "file_extension": ".py",
   "mimetype": "text/x-python",
   "name": "python",
   "nbconvert_exporter": "python",
   "pygments_lexer": "ipython3",
   "version": "3.9.12"
  }
 },
 "nbformat": 4,
 "nbformat_minor": 5
}
