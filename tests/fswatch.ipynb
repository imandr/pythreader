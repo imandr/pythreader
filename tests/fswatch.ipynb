{
 "cells": [
  {
   "cell_type": "code",
   "execution_count": 5,
   "id": "cdd854ec-7c7f-4bdf-914e-7489788ca68e",
   "metadata": {},
   "outputs": [],
   "source": [
    "from pythreader.tools import FSWatchdog"
   ]
  },
  {
   "cell_type": "code",
   "execution_count": 6,
   "id": "f5e71a46-b997-40c3-9216-4005861f2815",
   "metadata": {},
   "outputs": [],
   "source": [
    "w=FSWatchdog(1)\n"
   ]
  },
  {
   "cell_type": "code",
   "execution_count": 7,
   "id": "43a14214-91a7-45e0-abbd-60e9cda7836a",
   "metadata": {},
   "outputs": [],
   "source": [
    "def callback(watchdog, path, param, exception=None, mtime=None):\n",
    "    if mtime:\n",
    "        print(mtime, param)\n",
    "    else:\n",
    "        print(exception, param)"
   ]
  },
  {
   "cell_type": "code",
   "execution_count": 8,
   "id": "61e5094c-42aa-44cd-a4e4-4f624e71b062",
   "metadata": {},
   "outputs": [],
   "source": [
    "w.add(\"/tmp/qq\", callback)"
   ]
  },
  {
   "cell_type": "code",
   "execution_count": 5,
   "id": "d17c19d7-0135-44d9-87c3-d56ab384373c",
   "metadata": {},
   "outputs": [
    {
     "name": "stdout",
     "output_type": "stream",
     "text": [
      "[Errno 2] No such file or directory: '/tmp/qqq' <class 'FileNotFoundError'> {}\n",
      "None None\n",
      "1677161837.0645058 None\n",
      "None None\n"
     ]
    }
   ],
   "source": [
    "from os import stat\n",
    "\n",
    "try: stat(\"/tmp/qqq\")\n",
    "except Exception as e:\n",
    "    print(e, type(e), e.__dict__)"
   ]
  },
  {
   "cell_type": "code",
   "execution_count": null,
   "id": "d5f5e0f4-16c4-414f-9ed4-cafab2415133",
   "metadata": {},
   "outputs": [],
   "source": []
  }
 ],
 "metadata": {
  "kernelspec": {
   "display_name": "Python 3 (ipykernel)",
   "language": "python",
   "name": "python3"
  },
  "language_info": {
   "codemirror_mode": {
    "name": "ipython",
    "version": 3
   },
   "file_extension": ".py",
   "mimetype": "text/x-python",
   "name": "python",
   "nbconvert_exporter": "python",
   "pygments_lexer": "ipython3",
   "version": "3.9.12"
  }
 },
 "nbformat": 4,
 "nbformat_minor": 5
}
