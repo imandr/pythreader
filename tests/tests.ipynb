{
 "cells": [
  {
   "cell_type": "code",
   "execution_count": 1,
   "metadata": {},
   "outputs": [],
   "source": [
    "\n",
    "from pythreader import ShellCommand"
   ]
  },
  {
   "cell_type": "code",
   "execution_count": 2,
   "metadata": {},
   "outputs": [],
   "source": [
    "cmd = ShellCommand(\"/bin/sleep 10\")"
   ]
  },
  {
   "cell_type": "code",
   "execution_count": 3,
   "metadata": {},
   "outputs": [],
   "source": [
    "status, out, error = ShellCommand.execute(\"/bin/sleep 10\", timeout=15)"
   ]
  },
  {
   "cell_type": "code",
   "execution_count": 4,
   "metadata": {},
   "outputs": [
    {
     "name": "stdout",
     "output_type": "stream",
     "text": [
      "0  \n"
     ]
    }
   ],
   "source": [
    "print(status, out, error)"
   ]
  },
  {
   "cell_type": "code",
   "execution_count": 5,
   "metadata": {},
   "outputs": [
    {
     "data": {
      "text/plain": [
       "{'_target': None,\n",
       " '_name': 'Thread-4',\n",
       " '_args': (),\n",
       " '_kwargs': {},\n",
       " '_daemonic': False,\n",
       " '_ident': None,\n",
       " '_tstate_lock': None,\n",
       " '_started': <threading.Event at 0x7f8db840c7d0>,\n",
       " '_is_stopped': False,\n",
       " '_initialized': True,\n",
       " '_stderr': <ipykernel.iostream.OutStream at 0x7f8da8796090>,\n",
       " '_Kind': 'ShellCommand',\n",
       " '_Lock': <unlocked _thread.RLock object owner=0 count=0 at 0x7f8dd86b2e10>,\n",
       " '_WakeUp': <Condition(<unlocked _thread.RLock object owner=0 count=0 at 0x7f8dd86b2e10>, 0)>,\n",
       " '_Gate': <threading.Semaphore at 0x7f8db840c890>,\n",
       " 'Name': None,\n",
       " 'Params': ('/bin/sleep 10',),\n",
       " 'KV': {'shell': True,\n",
       "  'close_fds': True,\n",
       "  'stdout': -1,\n",
       "  'stderr': -1,\n",
       "  'stdin': None,\n",
       "  'cwd': None,\n",
       "  'env': None},\n",
       " 'Killed': False,\n",
       " 'Subrocess': None,\n",
       " 'Daemon': None,\n",
       " 'Promise': None,\n",
       " 'Input': None,\n",
       " 'Timeout': None,\n",
       " 'Tag': None}"
      ]
     },
     "execution_count": 5,
     "metadata": {},
     "output_type": "execute_result"
    }
   ],
   "source": [
    "cmd.__dict__"
   ]
  },
  {
   "cell_type": "code",
   "execution_count": null,
   "metadata": {},
   "outputs": [],
   "source": []
  }
 ],
 "metadata": {
  "kernelspec": {
   "display_name": "Python 3",
   "language": "python",
   "name": "python3"
  },
  "language_info": {
   "codemirror_mode": {
    "name": "ipython",
    "version": 3
   },
   "file_extension": ".py",
   "mimetype": "text/x-python",
   "name": "python",
   "nbconvert_exporter": "python",
   "pygments_lexer": "ipython3",
   "version": "3.7.9"
  }
 },
 "nbformat": 4,
 "nbformat_minor": 2
}
