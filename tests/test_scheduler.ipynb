{
 "cells": [
  {
   "cell_type": "code",
   "execution_count": 1,
   "id": "8f4ba788",
   "metadata": {},
   "outputs": [],
   "source": [
    "from pythreader import TaskQueue, Scheduler, schedule_job\n",
    "import time, random, traceback"
   ]
  },
  {
   "cell_type": "code",
   "execution_count": 4,
   "id": "a1fa76c4",
   "metadata": {},
   "outputs": [],
   "source": [
    "def f(x):\n",
    "    if random.random() < 0.5:\n",
    "        raise ValueError(\"simulated\")\n",
    "    return time.time()\n",
    "    \n",
    "def done(promise, result):\n",
    "    print(\"done\")\n",
    "\n",
    "def exception(promise, exc_type, exc_value, tb):\n",
    "    print(\"exception:\", \"\".join(traceback.format_exception(exc_type, exc_value, tb)))\n",
    "    "
   ]
  },
  {
   "cell_type": "code",
   "execution_count": 5,
   "id": "1650b62b-095c-4dac-ac28-63f111b02bbc",
   "metadata": {},
   "outputs": [
    {
     "name": "stdout",
     "output_type": "stream",
     "text": [
      "done\n",
      "exception: Traceback (most recent call last):\n",
      "  File \"/Users/ivm/git/pythreader/pythreader/Scheduler.py\", line 33, in run\n",
      "    next_t = self.F(*self.Params, **self.Args)\n",
      "  File \"/var/folders/rx/z35skykn7m52w2g61xz15fj40000gn/T/ipykernel_77940/1492632666.py\", line 3, in f\n",
      "    raise ValueError(\"simulated\")\n",
      "ValueError: simulated\n",
      "\n",
      "exception: Traceback (most recent call last):\n",
      "  File \"/Users/ivm/git/pythreader/pythreader/Scheduler.py\", line 33, in run\n",
      "    next_t = self.F(*self.Params, **self.Args)\n",
      "  File \"/var/folders/rx/z35skykn7m52w2g61xz15fj40000gn/T/ipykernel_77940/1492632666.py\", line 3, in f\n",
      "    raise ValueError(\"simulated\")\n",
      "ValueError: simulated\n",
      "\n",
      "exception: Traceback (most recent call last):\n",
      "  File \"/Users/ivm/git/pythreader/pythreader/Scheduler.py\", line 33, in run\n",
      "    next_t = self.F(*self.Params, **self.Args)\n",
      "  File \"/var/folders/rx/z35skykn7m52w2g61xz15fj40000gn/T/ipykernel_77940/1492632666.py\", line 3, in f\n",
      "    raise ValueError(\"simulated\")\n",
      "ValueError: simulated\n",
      "\n",
      "exception: Traceback (most recent call last):\n",
      "  File \"/Users/ivm/git/pythreader/pythreader/Scheduler.py\", line 33, in run\n",
      "    next_t = self.F(*self.Params, **self.Args)\n",
      "  File \"/var/folders/rx/z35skykn7m52w2g61xz15fj40000gn/T/ipykernel_77940/1492632666.py\", line 3, in f\n",
      "    raise ValueError(\"simulated\")\n",
      "ValueError: simulated\n",
      "\n",
      "exception: Traceback (most recent call last):\n",
      "  File \"/Users/ivm/git/pythreader/pythreader/Scheduler.py\", line 33, in run\n",
      "    next_t = self.F(*self.Params, **self.Args)\n",
      "  File \"/var/folders/rx/z35skykn7m52w2g61xz15fj40000gn/T/ipykernel_77940/1492632666.py\", line 3, in f\n",
      "    raise ValueError(\"simulated\")\n",
      "ValueError: simulated\n",
      "\n"
     ]
    },
    {
     "ename": "ValueError",
     "evalue": "simulated",
     "output_type": "error",
     "traceback": [
      "\u001b[0;31m---------------------------------------------------------------------------\u001b[0m",
      "\u001b[0;31mValueError\u001b[0m                                Traceback (most recent call last)",
      "\u001b[0;32m/var/folders/rx/z35skykn7m52w2g61xz15fj40000gn/T/ipykernel_77940/2015991745.py\u001b[0m in \u001b[0;36m<module>\u001b[0;34m\u001b[0m\n\u001b[1;32m      1\u001b[0m \u001b[0mpromises\u001b[0m \u001b[0;34m=\u001b[0m \u001b[0;34m[\u001b[0m\u001b[0mschedule_job\u001b[0m\u001b[0;34m(\u001b[0m\u001b[0mrandom\u001b[0m\u001b[0;34m.\u001b[0m\u001b[0mrandom\u001b[0m\u001b[0;34m(\u001b[0m\u001b[0;34m)\u001b[0m\u001b[0;34m*\u001b[0m\u001b[0;36m5\u001b[0m\u001b[0;34m,\u001b[0m \u001b[0mf\u001b[0m\u001b[0;34m,\u001b[0m \u001b[0;34m\"hello\"\u001b[0m\u001b[0;34m)\u001b[0m\u001b[0;34m.\u001b[0m\u001b[0mthen\u001b[0m\u001b[0;34m(\u001b[0m\u001b[0mdone\u001b[0m\u001b[0;34m,\u001b[0m \u001b[0mexception\u001b[0m\u001b[0;34m)\u001b[0m \u001b[0;32mfor\u001b[0m \u001b[0m_\u001b[0m \u001b[0;32min\u001b[0m \u001b[0mrange\u001b[0m\u001b[0;34m(\u001b[0m\u001b[0;36m10\u001b[0m\u001b[0;34m)\u001b[0m\u001b[0;34m]\u001b[0m\u001b[0;34m\u001b[0m\u001b[0;34m\u001b[0m\u001b[0m\n\u001b[0;32m----> 2\u001b[0;31m \u001b[0;34m[\u001b[0m\u001b[0mprint\u001b[0m\u001b[0;34m(\u001b[0m\u001b[0;34m\"result:\"\u001b[0m\u001b[0;34m,\u001b[0m \u001b[0mpromise\u001b[0m\u001b[0;34m.\u001b[0m\u001b[0mwait\u001b[0m\u001b[0;34m(\u001b[0m\u001b[0;34m)\u001b[0m\u001b[0;34m)\u001b[0m \u001b[0;32mfor\u001b[0m \u001b[0mpromise\u001b[0m \u001b[0;32min\u001b[0m \u001b[0mpromises\u001b[0m\u001b[0;34m]\u001b[0m\u001b[0;34m\u001b[0m\u001b[0;34m\u001b[0m\u001b[0m\n\u001b[0m",
      "\u001b[0;32m/var/folders/rx/z35skykn7m52w2g61xz15fj40000gn/T/ipykernel_77940/2015991745.py\u001b[0m in \u001b[0;36m<listcomp>\u001b[0;34m(.0)\u001b[0m\n\u001b[1;32m      1\u001b[0m \u001b[0mpromises\u001b[0m \u001b[0;34m=\u001b[0m \u001b[0;34m[\u001b[0m\u001b[0mschedule_job\u001b[0m\u001b[0;34m(\u001b[0m\u001b[0mrandom\u001b[0m\u001b[0;34m.\u001b[0m\u001b[0mrandom\u001b[0m\u001b[0;34m(\u001b[0m\u001b[0;34m)\u001b[0m\u001b[0;34m*\u001b[0m\u001b[0;36m5\u001b[0m\u001b[0;34m,\u001b[0m \u001b[0mf\u001b[0m\u001b[0;34m,\u001b[0m \u001b[0;34m\"hello\"\u001b[0m\u001b[0;34m)\u001b[0m\u001b[0;34m.\u001b[0m\u001b[0mthen\u001b[0m\u001b[0;34m(\u001b[0m\u001b[0mdone\u001b[0m\u001b[0;34m,\u001b[0m \u001b[0mexception\u001b[0m\u001b[0;34m)\u001b[0m \u001b[0;32mfor\u001b[0m \u001b[0m_\u001b[0m \u001b[0;32min\u001b[0m \u001b[0mrange\u001b[0m\u001b[0;34m(\u001b[0m\u001b[0;36m10\u001b[0m\u001b[0;34m)\u001b[0m\u001b[0;34m]\u001b[0m\u001b[0;34m\u001b[0m\u001b[0;34m\u001b[0m\u001b[0m\n\u001b[0;32m----> 2\u001b[0;31m \u001b[0;34m[\u001b[0m\u001b[0mprint\u001b[0m\u001b[0;34m(\u001b[0m\u001b[0;34m\"result:\"\u001b[0m\u001b[0;34m,\u001b[0m \u001b[0mpromise\u001b[0m\u001b[0;34m.\u001b[0m\u001b[0mwait\u001b[0m\u001b[0;34m(\u001b[0m\u001b[0;34m)\u001b[0m\u001b[0;34m)\u001b[0m \u001b[0;32mfor\u001b[0m \u001b[0mpromise\u001b[0m \u001b[0;32min\u001b[0m \u001b[0mpromises\u001b[0m\u001b[0;34m]\u001b[0m\u001b[0;34m\u001b[0m\u001b[0;34m\u001b[0m\u001b[0m\n\u001b[0m",
      "\u001b[0;32m~/git/pythreader/pythreader/core.py\u001b[0m in \u001b[0;36msmethod\u001b[0;34m(self, *params, **args)\u001b[0m\n\u001b[1;32m     21\u001b[0m         \u001b[0;31m#print(\"entering synchronized\", self, me)\u001b[0m\u001b[0;34m\u001b[0m\u001b[0;34m\u001b[0m\u001b[0m\n\u001b[1;32m     22\u001b[0m         \u001b[0;32mwith\u001b[0m \u001b[0mself\u001b[0m\u001b[0;34m:\u001b[0m\u001b[0;34m\u001b[0m\u001b[0;34m\u001b[0m\u001b[0m\n\u001b[0;32m---> 23\u001b[0;31m             \u001b[0mout\u001b[0m \u001b[0;34m=\u001b[0m \u001b[0mmethod\u001b[0m\u001b[0;34m(\u001b[0m\u001b[0mself\u001b[0m\u001b[0;34m,\u001b[0m \u001b[0;34m*\u001b[0m\u001b[0mparams\u001b[0m\u001b[0;34m,\u001b[0m \u001b[0;34m**\u001b[0m\u001b[0margs\u001b[0m\u001b[0;34m)\u001b[0m\u001b[0;34m\u001b[0m\u001b[0;34m\u001b[0m\u001b[0m\n\u001b[0m\u001b[1;32m     24\u001b[0m         \u001b[0;31m#print(\"exiting synchronized\", self, me)\u001b[0m\u001b[0;34m\u001b[0m\u001b[0;34m\u001b[0m\u001b[0m\n\u001b[1;32m     25\u001b[0m         \u001b[0;32mreturn\u001b[0m \u001b[0mout\u001b[0m\u001b[0;34m\u001b[0m\u001b[0;34m\u001b[0m\u001b[0m\n",
      "\u001b[0;32m~/git/pythreader/pythreader/promise.py\u001b[0m in \u001b[0;36mwait\u001b[0;34m(self, timeout)\u001b[0m\n\u001b[1;32m    184\u001b[0m                 \u001b[0;32mif\u001b[0m \u001b[0mself\u001b[0m\u001b[0;34m.\u001b[0m\u001b[0mRaiseException\u001b[0m\u001b[0;34m:\u001b[0m\u001b[0;34m\u001b[0m\u001b[0;34m\u001b[0m\u001b[0m\n\u001b[1;32m    185\u001b[0m                     \u001b[0m_\u001b[0m\u001b[0;34m,\u001b[0m \u001b[0me\u001b[0m\u001b[0;34m,\u001b[0m \u001b[0m_\u001b[0m \u001b[0;34m=\u001b[0m \u001b[0mself\u001b[0m\u001b[0;34m.\u001b[0m\u001b[0mExceptionInfo\u001b[0m\u001b[0;34m\u001b[0m\u001b[0;34m\u001b[0m\u001b[0m\n\u001b[0;32m--> 186\u001b[0;31m                     \u001b[0;32mraise\u001b[0m \u001b[0me\u001b[0m\u001b[0;34m\u001b[0m\u001b[0;34m\u001b[0m\u001b[0m\n\u001b[0m\u001b[1;32m    187\u001b[0m             \u001b[0;32melse\u001b[0m\u001b[0;34m:\u001b[0m\u001b[0;34m\u001b[0m\u001b[0;34m\u001b[0m\u001b[0m\n\u001b[1;32m    188\u001b[0m                 \u001b[0;32mraise\u001b[0m \u001b[0mTimeout\u001b[0m\u001b[0;34m(\u001b[0m\u001b[0;34m)\u001b[0m\u001b[0;34m\u001b[0m\u001b[0;34m\u001b[0m\u001b[0m\n",
      "\u001b[0;32m~/git/pythreader/pythreader/Scheduler.py\u001b[0m in \u001b[0;36mrun\u001b[0;34m(self)\u001b[0m\n\u001b[1;32m     31\u001b[0m         \u001b[0mexc_info\u001b[0m \u001b[0;34m=\u001b[0m \u001b[0;32mNone\u001b[0m\u001b[0;34m\u001b[0m\u001b[0;34m\u001b[0m\u001b[0m\n\u001b[1;32m     32\u001b[0m         \u001b[0;32mtry\u001b[0m\u001b[0;34m:\u001b[0m\u001b[0;34m\u001b[0m\u001b[0;34m\u001b[0m\u001b[0m\n\u001b[0;32m---> 33\u001b[0;31m             \u001b[0mnext_t\u001b[0m \u001b[0;34m=\u001b[0m \u001b[0mself\u001b[0m\u001b[0;34m.\u001b[0m\u001b[0mF\u001b[0m\u001b[0;34m(\u001b[0m\u001b[0;34m*\u001b[0m\u001b[0mself\u001b[0m\u001b[0;34m.\u001b[0m\u001b[0mParams\u001b[0m\u001b[0;34m,\u001b[0m \u001b[0;34m**\u001b[0m\u001b[0mself\u001b[0m\u001b[0;34m.\u001b[0m\u001b[0mArgs\u001b[0m\u001b[0;34m)\u001b[0m\u001b[0;34m\u001b[0m\u001b[0;34m\u001b[0m\u001b[0m\n\u001b[0m\u001b[1;32m     34\u001b[0m             \u001b[0mpromise\u001b[0m\u001b[0;34m.\u001b[0m\u001b[0mcomplete\u001b[0m\u001b[0;34m(\u001b[0m\u001b[0;34m)\u001b[0m\u001b[0;34m\u001b[0m\u001b[0;34m\u001b[0m\u001b[0m\n\u001b[1;32m     35\u001b[0m         \u001b[0;32mexcept\u001b[0m\u001b[0;34m:\u001b[0m\u001b[0;34m\u001b[0m\u001b[0;34m\u001b[0m\u001b[0m\n",
      "\u001b[0;32m/var/folders/rx/z35skykn7m52w2g61xz15fj40000gn/T/ipykernel_77940/1492632666.py\u001b[0m in \u001b[0;36mf\u001b[0;34m(x)\u001b[0m\n\u001b[1;32m      1\u001b[0m \u001b[0;32mdef\u001b[0m \u001b[0mf\u001b[0m\u001b[0;34m(\u001b[0m\u001b[0mx\u001b[0m\u001b[0;34m)\u001b[0m\u001b[0;34m:\u001b[0m\u001b[0;34m\u001b[0m\u001b[0;34m\u001b[0m\u001b[0m\n\u001b[1;32m      2\u001b[0m     \u001b[0;32mif\u001b[0m \u001b[0mrandom\u001b[0m\u001b[0;34m.\u001b[0m\u001b[0mrandom\u001b[0m\u001b[0;34m(\u001b[0m\u001b[0;34m)\u001b[0m \u001b[0;34m<\u001b[0m \u001b[0;36m0.5\u001b[0m\u001b[0;34m:\u001b[0m\u001b[0;34m\u001b[0m\u001b[0;34m\u001b[0m\u001b[0m\n\u001b[0;32m----> 3\u001b[0;31m         \u001b[0;32mraise\u001b[0m \u001b[0mValueError\u001b[0m\u001b[0;34m(\u001b[0m\u001b[0;34m\"simulated\"\u001b[0m\u001b[0;34m)\u001b[0m\u001b[0;34m\u001b[0m\u001b[0;34m\u001b[0m\u001b[0m\n\u001b[0m\u001b[1;32m      4\u001b[0m     \u001b[0;32mreturn\u001b[0m \u001b[0mtime\u001b[0m\u001b[0;34m.\u001b[0m\u001b[0mtime\u001b[0m\u001b[0;34m(\u001b[0m\u001b[0;34m)\u001b[0m\u001b[0;34m\u001b[0m\u001b[0;34m\u001b[0m\u001b[0m\n\u001b[1;32m      5\u001b[0m \u001b[0;34m\u001b[0m\u001b[0m\n",
      "\u001b[0;31mValueError\u001b[0m: simulated"
     ]
    },
    {
     "name": "stdout",
     "output_type": "stream",
     "text": [
      "done\n",
      "done\n",
      "exception: Traceback (most recent call last):\n",
      "  File \"/Users/ivm/git/pythreader/pythreader/Scheduler.py\", line 33, in run\n",
      "    next_t = self.F(*self.Params, **self.Args)\n",
      "  File \"/var/folders/rx/z35skykn7m52w2g61xz15fj40000gn/T/ipykernel_77940/1492632666.py\", line 3, in f\n",
      "    raise ValueError(\"simulated\")\n",
      "ValueError: simulated\n",
      "\n",
      "exception: Traceback (most recent call last):\n",
      "  File \"/Users/ivm/git/pythreader/pythreader/Scheduler.py\", line 33, in run\n",
      "    next_t = self.F(*self.Params, **self.Args)\n",
      "  File \"/var/folders/rx/z35skykn7m52w2g61xz15fj40000gn/T/ipykernel_77940/1492632666.py\", line 3, in f\n",
      "    raise ValueError(\"simulated\")\n",
      "ValueError: simulated\n",
      "\n"
     ]
    }
   ],
   "source": [
    "promises = [schedule_job(random.random()*5, f, \"hello\").then(done, exception) for _ in range(10)]\n",
    "[print(\"result:\", promise.wait()) for promise in promises]"
   ]
  },
  {
   "cell_type": "code",
   "execution_count": null,
   "id": "38b62ee8-c687-40f0-a464-57c503fdb3ef",
   "metadata": {},
   "outputs": [
    {
     "name": "stdout",
     "output_type": "stream",
     "text": [
      "exception: Traceback (most recent call last):\n",
      "  File \"/Users/ivm/git/pythreader/pythreader/Scheduler.py\", line 33, in run\n",
      "    next_t = self.F(*self.Params, **self.Args)\n",
      "  File \"/var/folders/rx/z35skykn7m52w2g61xz15fj40000gn/T/ipykernel_77878/2654607580.py\", line 3, in f\n",
      "    raise ValueError(\"simulated\")\n",
      "ValueError: simulated\n",
      "\n",
      "done\n",
      "done\n",
      "exception: Traceback (most recent call last):\n",
      "  File \"/Users/ivm/git/pythreader/pythreader/Scheduler.py\", line 33, in run\n",
      "    next_t = self.F(*self.Params, **self.Args)\n",
      "  File \"/var/folders/rx/z35skykn7m52w2g61xz15fj40000gn/T/ipykernel_77878/2654607580.py\", line 3, in f\n",
      "    raise ValueError(\"simulated\")\n",
      "ValueError: simulated\n",
      "\n"
     ]
    }
   ],
   "source": [
    "#promises = []\n",
    "for _ in range(10):\n",
    "    q.add(f, \"hello\", after=random.random()*2).then(done, exception)\n",
    "    #promises.append()\n",
    "    time.sleep(random.random())"
   ]
  },
  {
   "cell_type": "code",
   "execution_count": null,
   "id": "34e37c5a-b36c-4145-9dc3-5da4574dcf5a",
   "metadata": {},
   "outputs": [],
   "source": []
  }
 ],
 "metadata": {
  "kernelspec": {
   "display_name": "Python 3 (ipykernel)",
   "language": "python",
   "name": "python3"
  },
  "language_info": {
   "codemirror_mode": {
    "name": "ipython",
    "version": 3
   },
   "file_extension": ".py",
   "mimetype": "text/x-python",
   "name": "python",
   "nbconvert_exporter": "python",
   "pygments_lexer": "ipython3",
   "version": "3.9.12"
  }
 },
 "nbformat": 4,
 "nbformat_minor": 5
}
