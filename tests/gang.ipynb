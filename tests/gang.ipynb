{
 "cells": [
  {
   "cell_type": "code",
   "execution_count": 1,
   "id": "1d7229e1-afec-4b4c-9ad3-b483dcba544b",
   "metadata": {},
   "outputs": [],
   "source": [
    "from pythreader import Gang\n",
    "import time, random"
   ]
  },
  {
   "cell_type": "code",
   "execution_count": 41,
   "id": "a590432e-42a7-47e2-a259-ef9569ba35f0",
   "metadata": {},
   "outputs": [],
   "source": [
    "def task(p):\n",
    "    if random.random() < 0.1:\n",
    "        raise ValueError()\n",
    "    time.sleep(p)\n",
    "    return p"
   ]
  },
  {
   "cell_type": "code",
   "execution_count": 42,
   "id": "809c59c0-a434-4c28-bbc1-057435a3c29d",
   "metadata": {
    "tags": []
   },
   "outputs": [],
   "source": [
    "class Delegate(object):\n",
    "\n",
    "    def taskFailed(self, queue, task, exc_type, exc_value, tb):\n",
    "        print(\"task failed:\", task.Params)\n",
    "    "
   ]
  },
  {
   "cell_type": "code",
   "execution_count": 43,
   "id": "c9f01ce0-d7d4-40d3-aa17-ab869f982a8d",
   "metadata": {},
   "outputs": [
    {
     "name": "stderr",
     "output_type": "stream",
     "text": [
      "Traceback (most recent call last):\n",
      "  File \"/Users/ivm/git/pythreader/pythreader/task_queue.py\", line 210, in run\n",
      "    result = task.run()\n",
      "             ^^^^^^^^^^\n",
      "  File \"/Users/ivm/git/pythreader/pythreader/task_queue.py\", line 189, in run\n",
      "    result = self.F(*self.Params, **self.Args)\n",
      "             ^^^^^^^^^^^^^^^^^^^^^^^^^^^^^^^^^\n",
      "  File \"/var/folders/rx/z35skykn7m52w2g61xz15fj40000gn/T/ipykernel_48048/3912169373.py\", line 3, in task\n",
      "    raise ValueError()\n",
      "ValueError\n"
     ]
    },
    {
     "name": "stdout",
     "output_type": "stream",
     "text": [
      "task failed: (0.4192674517978645,)\n"
     ]
    },
    {
     "ename": "ValueError",
     "evalue": "",
     "output_type": "error",
     "traceback": [
      "\u001b[0;31m---------------------------------------------------------------------------\u001b[0m",
      "\u001b[0;31mValueError\u001b[0m                                Traceback (most recent call last)",
      "Cell \u001b[0;32mIn[43], line 2\u001b[0m\n\u001b[1;32m      1\u001b[0m g \u001b[38;5;241m=\u001b[39m Gang(task, [random\u001b[38;5;241m.\u001b[39mrandom() \u001b[38;5;28;01mfor\u001b[39;00m _ \u001b[38;5;129;01min\u001b[39;00m \u001b[38;5;28mrange\u001b[39m(\u001b[38;5;241m10\u001b[39m)], delegate\u001b[38;5;241m=\u001b[39mDelegate())\n\u001b[0;32m----> 2\u001b[0m \u001b[43mg\u001b[49m\u001b[38;5;241;43m.\u001b[39;49m\u001b[43mwait\u001b[49m\u001b[43m(\u001b[49m\u001b[43m)\u001b[49m\n",
      "File \u001b[0;32m~/git/pythreader/pythreader/gang.py:16\u001b[0m, in \u001b[0;36mGang.wait\u001b[0;34m(self)\u001b[0m\n\u001b[1;32m     15\u001b[0m \u001b[38;5;28;01mdef\u001b[39;00m \u001b[38;5;21mwait\u001b[39m(\u001b[38;5;28mself\u001b[39m):\n\u001b[0;32m---> 16\u001b[0m     \u001b[38;5;28;01mreturn\u001b[39;00m \u001b[38;5;28mlist\u001b[39m(\u001b[38;5;28mself\u001b[39m\u001b[38;5;241m.\u001b[39m\u001b[38;5;21m__iter__\u001b[39m())\n",
      "File \u001b[0;32m~/git/pythreader/pythreader/gang.py:13\u001b[0m, in \u001b[0;36m<genexpr>\u001b[0;34m(.0)\u001b[0m\n\u001b[1;32m     12\u001b[0m \u001b[38;5;28;01mdef\u001b[39;00m \u001b[38;5;21m__iter__\u001b[39m(\u001b[38;5;28mself\u001b[39m):\n\u001b[0;32m---> 13\u001b[0m     \u001b[38;5;28;01mreturn\u001b[39;00m (\u001b[43mpromise\u001b[49m\u001b[38;5;241;43m.\u001b[39;49m\u001b[43mwait\u001b[49m\u001b[43m(\u001b[49m\u001b[43m)\u001b[49m \u001b[38;5;28;01mfor\u001b[39;00m promise \u001b[38;5;129;01min\u001b[39;00m \u001b[38;5;28mself\u001b[39m\u001b[38;5;241m.\u001b[39mPromises)\n",
      "File \u001b[0;32m~/git/pythreader/pythreader/core.py:22\u001b[0m, in \u001b[0;36msynchronized.<locals>.smethod\u001b[0;34m(self, *params, **args)\u001b[0m\n\u001b[1;32m     20\u001b[0m me \u001b[38;5;241m=\u001b[39m get_ident()\n\u001b[1;32m     21\u001b[0m \u001b[38;5;28;01mwith\u001b[39;00m \u001b[38;5;28mself\u001b[39m:\n\u001b[0;32m---> 22\u001b[0m     out \u001b[38;5;241m=\u001b[39m \u001b[43mmethod\u001b[49m\u001b[43m(\u001b[49m\u001b[38;5;28;43mself\u001b[39;49m\u001b[43m,\u001b[49m\u001b[43m \u001b[49m\u001b[38;5;241;43m*\u001b[39;49m\u001b[43mparams\u001b[49m\u001b[43m,\u001b[49m\u001b[43m \u001b[49m\u001b[38;5;241;43m*\u001b[39;49m\u001b[38;5;241;43m*\u001b[39;49m\u001b[43margs\u001b[49m\u001b[43m)\u001b[49m\n\u001b[1;32m     23\u001b[0m \u001b[38;5;28;01mreturn\u001b[39;00m out\n",
      "File \u001b[0;32m~/git/pythreader/pythreader/promise.py:260\u001b[0m, in \u001b[0;36mPromise.wait\u001b[0;34m(self, timeout)\u001b[0m\n\u001b[1;32m    258\u001b[0m     \u001b[38;5;28;01mif\u001b[39;00m \u001b[38;5;28mself\u001b[39m\u001b[38;5;241m.\u001b[39mRaiseException:\n\u001b[1;32m    259\u001b[0m         _, e, tb \u001b[38;5;241m=\u001b[39m \u001b[38;5;28mself\u001b[39m\u001b[38;5;241m.\u001b[39mExceptionInfo\n\u001b[0;32m--> 260\u001b[0m         \u001b[38;5;28;01mraise\u001b[39;00m e\u001b[38;5;241m.\u001b[39mwith_traceback(tb)\n\u001b[1;32m    261\u001b[0m \u001b[38;5;28;01melse\u001b[39;00m:\n\u001b[1;32m    262\u001b[0m     \u001b[38;5;28;01mraise\u001b[39;00m Timeout()\n",
      "File \u001b[0;32m~/git/pythreader/pythreader/task_queue.py:210\u001b[0m, in \u001b[0;36mTaskQueue.ExecutorThread.run\u001b[0;34m(self)\u001b[0m\n\u001b[1;32m    208\u001b[0m     result \u001b[38;5;241m=\u001b[39m task()\n\u001b[1;32m    209\u001b[0m \u001b[38;5;28;01melse\u001b[39;00m:\n\u001b[0;32m--> 210\u001b[0m     result \u001b[38;5;241m=\u001b[39m \u001b[43mtask\u001b[49m\u001b[38;5;241;43m.\u001b[39;49m\u001b[43mrun\u001b[49m\u001b[43m(\u001b[49m\u001b[43m)\u001b[49m\n\u001b[1;32m    211\u001b[0m task\u001b[38;5;241m.\u001b[39m_ended()\n\u001b[1;32m    212\u001b[0m \u001b[38;5;66;03m#print(task._Private.__dict__)\u001b[39;00m\n",
      "File \u001b[0;32m~/git/pythreader/pythreader/task_queue.py:189\u001b[0m, in \u001b[0;36mFunctionTask.run\u001b[0;34m(self)\u001b[0m\n\u001b[1;32m    188\u001b[0m \u001b[38;5;28;01mdef\u001b[39;00m \u001b[38;5;21mrun\u001b[39m(\u001b[38;5;28mself\u001b[39m):\n\u001b[0;32m--> 189\u001b[0m     result \u001b[38;5;241m=\u001b[39m \u001b[38;5;28;43mself\u001b[39;49m\u001b[38;5;241;43m.\u001b[39;49m\u001b[43mF\u001b[49m\u001b[43m(\u001b[49m\u001b[38;5;241;43m*\u001b[39;49m\u001b[38;5;28;43mself\u001b[39;49m\u001b[38;5;241;43m.\u001b[39;49m\u001b[43mParams\u001b[49m\u001b[43m,\u001b[49m\u001b[43m \u001b[49m\u001b[38;5;241;43m*\u001b[39;49m\u001b[38;5;241;43m*\u001b[39;49m\u001b[38;5;28;43mself\u001b[39;49m\u001b[38;5;241;43m.\u001b[39;49m\u001b[43mArgs\u001b[49m\u001b[43m)\u001b[49m\n\u001b[1;32m    190\u001b[0m     \u001b[38;5;66;03m#self.F = self.Params = self.Args = None\u001b[39;00m\n\u001b[1;32m    191\u001b[0m     \u001b[38;5;28;01mreturn\u001b[39;00m result\n",
      "Cell \u001b[0;32mIn[41], line 3\u001b[0m, in \u001b[0;36mtask\u001b[0;34m(p)\u001b[0m\n\u001b[1;32m      1\u001b[0m \u001b[38;5;28;01mdef\u001b[39;00m \u001b[38;5;21mtask\u001b[39m(p):\n\u001b[1;32m      2\u001b[0m     \u001b[38;5;28;01mif\u001b[39;00m random\u001b[38;5;241m.\u001b[39mrandom() \u001b[38;5;241m<\u001b[39m \u001b[38;5;241m0.1\u001b[39m:\n\u001b[0;32m----> 3\u001b[0m         \u001b[38;5;28;01mraise\u001b[39;00m \u001b[38;5;167;01mValueError\u001b[39;00m()\n\u001b[1;32m      4\u001b[0m     time\u001b[38;5;241m.\u001b[39msleep(p)\n\u001b[1;32m      5\u001b[0m     \u001b[38;5;28;01mreturn\u001b[39;00m p\n",
      "\u001b[0;31mValueError\u001b[0m: "
     ]
    }
   ],
   "source": [
    "g = Gang(task, [random.random() for _ in range(10)], delegate=Delegate())\n",
    "g.wait()\n"
   ]
  },
  {
   "cell_type": "code",
   "execution_count": 4,
   "id": "2cb9d0f3-07ea-4762-a2b3-ffe64da7a4cb",
   "metadata": {},
   "outputs": [
    {
     "data": {
      "text/plain": [
       "('', '')"
      ]
     },
     "execution_count": 4,
     "metadata": {},
     "output_type": "execute_result"
    }
   ],
   "source": [
    "p.wait()"
   ]
  },
  {
   "cell_type": "code",
   "execution_count": 5,
   "id": "797a70c5-90c6-47a8-b5ad-8cdcd8a6a038",
   "metadata": {},
   "outputs": [
    {
     "data": {
      "text/plain": [
       "False"
      ]
     },
     "execution_count": 5,
     "metadata": {},
     "output_type": "execute_result"
    }
   ],
   "source": [
    "p.is_running"
   ]
  },
  {
   "cell_type": "code",
   "execution_count": 6,
   "id": "79979f11-015d-4842-82c4-01e73759a424",
   "metadata": {},
   "outputs": [
    {
     "data": {
      "text/plain": [
       "0"
      ]
     },
     "execution_count": 6,
     "metadata": {},
     "output_type": "execute_result"
    }
   ],
   "source": [
    "p.returncode"
   ]
  },
  {
   "cell_type": "code",
   "execution_count": null,
   "id": "8566ed0a-9329-41cf-a63a-283dc6fc3059",
   "metadata": {},
   "outputs": [],
   "source": []
  }
 ],
 "metadata": {
  "kernelspec": {
   "display_name": "Python 3 (ipykernel)",
   "language": "python",
   "name": "python3"
  },
  "language_info": {
   "codemirror_mode": {
    "name": "ipython",
    "version": 3
   },
   "file_extension": ".py",
   "mimetype": "text/x-python",
   "name": "python",
   "nbconvert_exporter": "python",
   "pygments_lexer": "ipython3",
   "version": "3.11.2"
  }
 },
 "nbformat": 4,
 "nbformat_minor": 5
}
