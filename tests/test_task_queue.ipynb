{
 "cells": [
  {
   "cell_type": "code",
   "execution_count": 1,
   "id": "8d1b339f",
   "metadata": {},
   "outputs": [],
   "source": [
    "from pythreader import Task, TaskQueue\n",
    "import time, random"
   ]
  },
  {
   "cell_type": "code",
   "execution_count": 16,
   "id": "809f61f4",
   "metadata": {},
   "outputs": [],
   "source": [
    "q = TaskQueue(5)"
   ]
  },
  {
   "cell_type": "code",
   "execution_count": 19,
   "id": "7ea93211",
   "metadata": {},
   "outputs": [],
   "source": [
    "def fcn(x):\n",
    "    #time.sleep(0.5*random.random())\n",
    "    print(x)"
   ]
  },
  {
   "cell_type": "code",
   "execution_count": 20,
   "id": "f6231c68",
   "metadata": {},
   "outputs": [
    {
     "name": "stdout",
     "output_type": "stream",
     "text": [
      "01\n",
      "2\n",
      "\n",
      "3\n",
      "4\n",
      "5\n",
      "6\n",
      "7\n",
      "8\n",
      "9\n",
      "10\n",
      "11\n",
      "12\n",
      "13\n",
      "14\n",
      "15\n",
      "16\n",
      "17\n",
      "18\n",
      "19\n",
      "20\n",
      "21\n",
      "22\n",
      "23\n",
      "24\n",
      "25\n",
      "2627\n",
      "\n",
      "28\n",
      "29\n"
     ]
    }
   ],
   "source": [
    "for i in range(30):\n",
    "    a = random.random()*0\n",
    "    q.append(fcn, i, after=a)"
   ]
  },
  {
   "cell_type": "code",
   "execution_count": null,
   "id": "f2fdd2c6-f12f-4c89-8aeb-b5b8cfddd539",
   "metadata": {},
   "outputs": [],
   "source": []
  }
 ],
 "metadata": {
  "kernelspec": {
   "display_name": "Python 3 (ipykernel)",
   "language": "python",
   "name": "python3"
  },
  "language_info": {
   "codemirror_mode": {
    "name": "ipython",
    "version": 3
   },
   "file_extension": ".py",
   "mimetype": "text/x-python",
   "name": "python",
   "nbconvert_exporter": "python",
   "pygments_lexer": "ipython3",
   "version": "3.9.12"
  }
 },
 "nbformat": 4,
 "nbformat_minor": 5
}
